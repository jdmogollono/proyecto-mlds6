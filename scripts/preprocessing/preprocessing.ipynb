{
 "cells": [
  {
   "cell_type": "code",
   "execution_count": 1,
   "id": "pT3L3RSlx5AB",
   "metadata": {
    "id": "pT3L3RSlx5AB"
   },
   "outputs": [],
   "source": [
    "import pandas as pd\n",
    "import os\n",
    "import pandas as pd\n",
    "import numpy as np\n",
    "from multiprocessing import Pool, cpu_count\n",
    "import pandas as pd\n",
    "import matplotlib.pyplot as plt\n",
    "import seaborn as sns"
   ]
  },
  {
   "cell_type": "code",
   "execution_count": 2,
   "id": "LbSqL4rPx0kO",
   "metadata": {
    "id": "LbSqL4rPx0kO"
   },
   "outputs": [
    {
     "name": "stdout",
     "output_type": "stream",
     "text": [
      "Workspace: /home/jovyan/work/mlds6\n",
      "Data folder: /home/jovyan/work/mlds6/data\n"
     ]
    }
   ],
   "source": [
    "# Navegar hasta la raíz del proyecto \n",
    "WORKSPACE = os.path.abspath(os.path.join(os.getcwd(), '../../'))\n",
    "\n",
    "# Definir la ruta de la carpeta de datos\n",
    "DATA_FOLDER = os.path.join(WORKSPACE, 'data')\n",
    "\n",
    "print(\"Workspace:\", WORKSPACE)\n",
    "print(\"Data folder:\", DATA_FOLDER)"
   ]
  },
  {
   "cell_type": "code",
   "execution_count": 14,
   "id": "aVyLRo-gyu5f",
   "metadata": {
    "id": "aVyLRo-gyu5f"
   },
   "outputs": [
    {
     "name": "stdout",
     "output_type": "stream",
     "text": [
      "<class 'pandas.core.frame.DataFrame'>\n",
      "DatetimeIndex: 13048112 entries, 2000-01-31 to 2023-12-31\n",
      "Data columns (total 7 columns):\n",
      " #   Column          Dtype  \n",
      "---  ------          -----  \n",
      " 0   CodigoEstacion  int64  \n",
      " 1   PTPM_CON        float64\n",
      " 2   PTPM_CON_1D     float64\n",
      " 3   PTPM_CON_3D     float64\n",
      " 4   PTPM_CON_7D     float64\n",
      " 5   PTPM_CON_15D    float64\n",
      " 6   PTPM_CON_30D    float64\n",
      "dtypes: float64(6), int64(1)\n",
      "memory usage: 796.4 MB\n",
      "None\n"
     ]
    }
   ],
   "source": [
    "# Cargar el dataset y eliminar filas con valores vacíos en 'PTPM_CON'\n",
    "df = pd.read_csv(os.path.join(DATA_FOLDER, 'data_promedios.csv'), usecols=['PTPM_CON', 'PTPM_CON_1D', 'PTPM_CON_3D', 'PTPM_CON_7D', 'PTPM_CON_15D', 'PTPM_CON_30D','Fecha', 'CodigoEstacion']) \n",
    "df = df.dropna() \n",
    "\n",
    "# Asignar la columna 'Fecha' como el índice\n",
    "df['Fecha'] = pd.to_datetime(df['Fecha'])  \n",
    "df = df.set_index('Fecha')\n",
    "\n",
    "# Verifica el DataFrame resultante\n",
    "print(df.info())"
   ]
  },
  {
   "cell_type": "code",
   "execution_count": 4,
   "id": "b6cc28fc",
   "metadata": {},
   "outputs": [
    {
     "name": "stdout",
     "output_type": "stream",
     "text": [
      "Valores atípicos reemplazados: 1771839\n"
     ]
    }
   ],
   "source": [
    "# Función para reemplazar valores atípicos usando la fórmula basada en IQR\n",
    "def reemplazar_valores_atipicos(grupo):\n",
    "    # Calcular Q1, Q3 y IQR\n",
    "    Q1 = grupo['PTPM_CON'].quantile(0.25)\n",
    "    Q3 = grupo['PTPM_CON'].quantile(0.75)\n",
    "    IQR = Q3 - Q1\n",
    "    \n",
    "    # Límite para identificar valores atípicos\n",
    "    limite_superior = Q3 + 1.5 * IQR\n",
    "    \n",
    "    # Calcular el percentil 99\n",
    "    P99 = grupo['PTPM_CON'].quantile(0.99)\n",
    "    \n",
    "    # Identificar valores atípicos\n",
    "    atipicos = grupo[(grupo['PTPM_CON'] < 0) | (grupo['PTPM_CON'] > limite_superior)]\n",
    "    reemplazos = len(atipicos)\n",
    "    \n",
    "    # Reemplazar valores atípicos por el percentil 99\n",
    "    grupo['PTPM_CON'] = grupo['PTPM_CON'].apply(\n",
    "        lambda x: P99 if x < 0 or x > limite_superior else x\n",
    "    )\n",
    "    \n",
    "    return grupo, reemplazos\n",
    "\n",
    "# Aplicar la función a cada estación\n",
    "valores_atipicos = {}\n",
    "df_filtrado = pd.DataFrame()\n",
    "\n",
    "for estacion, grupo in df.groupby('CodigoEstacion'):\n",
    "    grupo_reemplazado, reemplazos = reemplazar_valores_atipicos(grupo)\n",
    "    valores_atipicos[estacion] = reemplazos\n",
    "    df_filtrado = pd.concat([df_filtrado, grupo_reemplazado])\n",
    "\n",
    "print(f\"Valores atípicos reemplazados: {sum(valores_atipicos.values())}\")"
   ]
  },
  {
   "cell_type": "code",
   "execution_count": 5,
   "id": "535fba24",
   "metadata": {},
   "outputs": [
    {
     "name": "stdout",
     "output_type": "stream",
     "text": [
      "Estaciones con menos del 80% de datos entre 2000-01-31 a 2023-12-31 eliminadas : 281\n"
     ]
    }
   ],
   "source": [
    "# Definir el rango de fechas\n",
    "fecha_inicio = '2000-01-31'\n",
    "fecha_fin = '2023-12-31'\n",
    "\n",
    "# Calcular el número total de días en el rango\n",
    "rango_fechas = pd.date_range(start=fecha_inicio, end=fecha_fin)\n",
    "total_dias = len(rango_fechas)\n",
    "\n",
    "# Total de estaciones iniciales\n",
    "total_estaciones_iniciales = df['CodigoEstacion'].nunique()\n",
    "df_filtrado = pd.DataFrame()\n",
    "\n",
    "# Filtrar estaciones que cumplen el criterio de al menos 80% de datos en el rango de fechas\n",
    "def estacion_con_suficientes_datos(grupo):\n",
    "    datos_en_rango = len(grupo)\n",
    "    return datos_en_rango / total_dias >= 0.8\n",
    "\n",
    "# Identificar estaciones que cumplen el criterio\n",
    "estaciones_validas = df.groupby('CodigoEstacion').filter(estacion_con_suficientes_datos)['CodigoEstacion'].unique()\n",
    "\n",
    "# Filtrar el DataFrame conservando solo las estaciones válidas\n",
    "df_filtrado = df[df['CodigoEstacion'].isin(estaciones_validas)]\n",
    "\n",
    "# Imprimir el número de estaciones eliminadas\n",
    "print(f\"Estaciones con menos del 80% de datos entre 2000-01-31 a 2023-12-31 eliminadas : {total_estaciones_iniciales - len(estaciones_validas)}\")"
   ]
  },
  {
   "cell_type": "code",
   "execution_count": 6,
   "id": "ca31e62e",
   "metadata": {},
   "outputs": [
    {
     "name": "stdout",
     "output_type": "stream",
     "text": [
      "Estaciones con persistencia de ceros eliminadas : 20\n"
     ]
    }
   ],
   "source": [
    "# Identificar estaciones donde más del 90% de los valores son 0\n",
    "estaciones_0 = df_filtrado.groupby('CodigoEstacion')['PTPM_CON'].apply(lambda x: (x <= 0.1).mean() > 0.90)\n",
    "estaciones_0 = estaciones_0[estaciones_0].index\n",
    "\n",
    "# Eliminar estas estaciones del DataFrame\n",
    "df_filtrado = df_filtrado[~df_filtrado['CodigoEstacion'].isin(estaciones_0)]\n",
    "\n",
    "# Imprimir la cantidad de estaciones eliminadas\n",
    "print(f\"Estaciones con persistencia de ceros eliminadas : {len(estaciones_0)}\")"
   ]
  },
  {
   "cell_type": "code",
   "execution_count": 7,
   "id": "7693ed0a",
   "metadata": {},
   "outputs": [],
   "source": [
    "def process_station_group(station, group):\n",
    "    \"\"\"\n",
    "    Procesa una estación individual y calcula la correlación entre PTPM_CON y el resto de variables numéricas.\n",
    "\n",
    "    Args:\n",
    "        station: Código de la estación a procesar.\n",
    "        group (pd.DataFrame): Subgrupo del DataFrame para la estación.\n",
    "        min_rows (int): Número mínimo de filas requeridas después de eliminar NaNs.\n",
    "\n",
    "    Returns:\n",
    "        tuple: (código_estación, correlaciones) o (None, None) si no cumple criterios.\n",
    "    \"\"\"\n",
    "    # Eliminar columnas no deseadas\n",
    "    exclude_cols = ['CodigoEstacion', 'Fecha']\n",
    "\n",
    "    # Seleccionar solo columnas numéricas excepto las excluidas\n",
    "    numeric_cols = group.select_dtypes(include=[np.number]).columns\n",
    "    numeric_cols = numeric_cols[~numeric_cols.isin(exclude_cols)]\n",
    "\n",
    "    # Verificar que la columna PTPM_CON esté en el DataFrame\n",
    "    if 'PTPM_CON' not in numeric_cols:\n",
    "        return None, None\n",
    "\n",
    "    # Calcular correlaciones entre PTPM_CON y las demás columnas\n",
    "    correlations = {}\n",
    "    for col in numeric_cols:\n",
    "        if col != 'PTPM_CON':\n",
    "            # Eliminar filas con NaN solo para las dos columnas involucradas\n",
    "            df_clean = group[['PTPM_CON', col]].dropna()\n",
    "\n",
    "            # Calcular correlación y agregar al diccionario\n",
    "            correlation_value = df_clean['PTPM_CON'].corr(df_clean[col])\n",
    "            correlations[col] = correlation_value\n",
    "\n",
    "    # Verificar si se calcularon correlaciones\n",
    "    if len(correlations) == 0:\n",
    "        return None, None\n",
    "\n",
    "    return station, correlations\n",
    "\n",
    "def process_all_stations(df):\n",
    "    \"\"\"\n",
    "    Procesa todas las estaciones en paralelo utilizando multiprocessing y calcula la correlación de PTPM_CON.\n",
    "\n",
    "    Args:\n",
    "        df (pd.DataFrame): DataFrame completo.\n",
    "        min_rows (int): Número mínimo de filas requeridas después de eliminar NaNs.\n",
    "\n",
    "    Returns:\n",
    "        dict: Diccionario con las correlaciones por estación.\n",
    "    \"\"\"\n",
    "    # Agrupar por estación en lugar de filtrar repetidamente\n",
    "    grouped = df.groupby('CodigoEstacion')\n",
    "\n",
    "    # Definir el número de núcleos a utilizar\n",
    "    num_cores = cpu_count()\n",
    "\n",
    "    # Usar un pool de workers para paralelizar el proceso\n",
    "    with Pool(processes=num_cores) as pool:\n",
    "        # Usar chunksize para distribuir las estaciones en lotes más pequeños\n",
    "        results = pool.starmap(process_station_group, [(station, group) for station, group in grouped])\n",
    "\n",
    "    # Filtrar resultados nulos y construir el diccionario final\n",
    "    return {station: corr for station, corr in results if station is not None}\n",
    "\n",
    "\n",
    "def generate_summary_table(correlations):\n",
    "    \"\"\"\n",
    "    Genera una tabla con la correlación máxima, mínima y promedio para cada variable.\n",
    "\n",
    "    Args:\n",
    "        correlations (dict): Diccionario de correlaciones por estación.\n",
    "\n",
    "    Returns:\n",
    "        pd.DataFrame: Tabla con las estadísticas por variable.\n",
    "    \"\"\"\n",
    "    summary_data = {\n",
    "        'Variable': [],\n",
    "        'Correlación Máxima': [],\n",
    "        'Correlación Mínima': [],\n",
    "        'Correlación Promedio': []\n",
    "    }\n",
    "\n",
    "    # Crear un DataFrame para almacenar todas las correlaciones por variable\n",
    "    all_correlations = pd.DataFrame()\n",
    "\n",
    "    for station, station_corrs in correlations.items():\n",
    "        temp_df = pd.DataFrame(station_corrs, index=[station])\n",
    "        all_correlations = pd.concat([all_correlations, temp_df])\n",
    "\n",
    "    # Iterar por cada variable y calcular la máxima, mínima y promedio\n",
    "    for col in all_correlations.columns:\n",
    "        max_corr_value = all_correlations[col].max()\n",
    "        min_corr_value = all_correlations[col].min()\n",
    "        avg_corr_value = all_correlations[col].mean()\n",
    "\n",
    "        # Agregar datos a la tabla resumen\n",
    "        summary_data['Variable'].append(col)\n",
    "        summary_data['Correlación Máxima'].append(max_corr_value)\n",
    "        summary_data['Correlación Mínima'].append(min_corr_value)\n",
    "        summary_data['Correlación Promedio'].append(avg_corr_value)\n",
    "\n",
    "    # Convertir a DataFrame\n",
    "    summary_df = pd.DataFrame(summary_data)\n",
    "    return summary_df"
   ]
  },
  {
   "cell_type": "code",
   "execution_count": 8,
   "id": "50b23ce6",
   "metadata": {},
   "outputs": [
    {
     "data": {
      "text/html": [
       "<div>\n",
       "<style scoped>\n",
       "    .dataframe tbody tr th:only-of-type {\n",
       "        vertical-align: middle;\n",
       "    }\n",
       "\n",
       "    .dataframe tbody tr th {\n",
       "        vertical-align: top;\n",
       "    }\n",
       "\n",
       "    .dataframe thead th {\n",
       "        text-align: right;\n",
       "    }\n",
       "</style>\n",
       "<table border=\"1\" class=\"dataframe\">\n",
       "  <thead>\n",
       "    <tr style=\"text-align: right;\">\n",
       "      <th></th>\n",
       "      <th>Variable</th>\n",
       "      <th>Correlación Máxima</th>\n",
       "      <th>Correlación Mínima</th>\n",
       "      <th>Correlación Promedio</th>\n",
       "    </tr>\n",
       "  </thead>\n",
       "  <tbody>\n",
       "    <tr>\n",
       "      <th>3</th>\n",
       "      <td>PTPM_CON_15D</td>\n",
       "      <td>0.487812</td>\n",
       "      <td>0.018945</td>\n",
       "      <td>0.182998</td>\n",
       "    </tr>\n",
       "    <tr>\n",
       "      <th>2</th>\n",
       "      <td>PTPM_CON_7D</td>\n",
       "      <td>0.494783</td>\n",
       "      <td>0.012801</td>\n",
       "      <td>0.180596</td>\n",
       "    </tr>\n",
       "    <tr>\n",
       "      <th>4</th>\n",
       "      <td>PTPM_CON_30D</td>\n",
       "      <td>0.450837</td>\n",
       "      <td>0.024721</td>\n",
       "      <td>0.180406</td>\n",
       "    </tr>\n",
       "    <tr>\n",
       "      <th>1</th>\n",
       "      <td>PTPM_CON_3D</td>\n",
       "      <td>0.516197</td>\n",
       "      <td>-0.010574</td>\n",
       "      <td>0.168739</td>\n",
       "    </tr>\n",
       "    <tr>\n",
       "      <th>0</th>\n",
       "      <td>PTPM_CON_1D</td>\n",
       "      <td>0.537002</td>\n",
       "      <td>-0.052421</td>\n",
       "      <td>0.145866</td>\n",
       "    </tr>\n",
       "  </tbody>\n",
       "</table>\n",
       "</div>"
      ],
      "text/plain": [
       "       Variable  Correlación Máxima  Correlación Mínima  Correlación Promedio\n",
       "3  PTPM_CON_15D            0.487812            0.018945              0.182998\n",
       "2   PTPM_CON_7D            0.494783            0.012801              0.180596\n",
       "4  PTPM_CON_30D            0.450837            0.024721              0.180406\n",
       "1   PTPM_CON_3D            0.516197           -0.010574              0.168739\n",
       "0   PTPM_CON_1D            0.537002           -0.052421              0.145866"
      ]
     },
     "execution_count": 8,
     "metadata": {},
     "output_type": "execute_result"
    }
   ],
   "source": [
    "correlaciones = process_all_stations(df_filtrado)\n",
    "tabla_resumen = generate_summary_table(correlaciones).sort_values('Correlación Promedio', ascending=False)\n",
    "tabla_resumen"
   ]
  },
  {
   "cell_type": "code",
   "execution_count": 9,
   "id": "1ad25ed2",
   "metadata": {},
   "outputs": [
    {
     "name": "stdout",
     "output_type": "stream",
     "text": [
      "Estaciones con correlación menor a 0.3 eliminadas : 1343\n"
     ]
    }
   ],
   "source": [
    "# Definir el umbral de correlación\n",
    "umbral = 0.3\n",
    "\n",
    "# Obtener las estaciones a eliminar basadas en el diccionario de correlaciones\n",
    "estaciones_a_eliminar = [\n",
    "    estacion for estacion, correlacion in correlaciones.items()\n",
    "    if any(correlacion[variable] < umbral for variable in correlacion)\n",
    "]\n",
    "\n",
    "# Filtrar el DataFrame para eliminar las estaciones que cumplen la condición\n",
    "df_filtrado = df_filtrado[~df_filtrado['CodigoEstacion'].isin(estaciones_a_eliminar)]\n",
    "\n",
    "# Imprimir el número de estaciones eliminadas\n",
    "print(f\"Estaciones con correlación menor a 0.3 eliminadas : {len(estaciones_a_eliminar)}\")"
   ]
  },
  {
   "cell_type": "code",
   "execution_count": 10,
   "id": "292eb17e",
   "metadata": {},
   "outputs": [
    {
     "name": "stdout",
     "output_type": "stream",
     "text": [
      "Número de estaciones antes del filtrado: 1682\n",
      "Número de estaciones después del filtrado: 38\n"
     ]
    }
   ],
   "source": [
    "print(f\"Número de estaciones antes del filtrado: {df['CodigoEstacion'].nunique()}\")\n",
    "print(f\"Número de estaciones después del filtrado: {df_filtrado['CodigoEstacion'].nunique()}\")"
   ]
  },
  {
   "cell_type": "code",
   "execution_count": 11,
   "id": "d3eef261",
   "metadata": {},
   "outputs": [],
   "source": [
    "# Guardar df_filtrado como un archivo CSV\n",
    "df_filtrado.to_csv(DATA_FOLDER + '/data_filtrado.csv', index_label='Fecha')"
   ]
  },
  {
   "cell_type": "code",
   "execution_count": 15,
   "id": "2e18cbe1",
   "metadata": {},
   "outputs": [
    {
     "data": {
      "image/png": "[encoded data removed]",
      "text/plain": [
       "<Figure size 1000x800 with 2 Axes>"
      ]
     },
     "metadata": {},
     "output_type": "display_data"
    }
   ],
   "source": [
    "columns = df.filter(regex='PTPM').columns\n",
    "df[columns] = df.groupby('CodigoEstacion')[columns].transform(lambda x: x / x.max())\n",
    "\n",
    "# Calcular la matriz de correlación\n",
    "correlation_matrix = df[columns].corr()\n",
    "\n",
    "# Graficar la matriz de correlación usando seaborn\n",
    "plt.figure(figsize=(10, 8))\n",
    "sns.heatmap(correlation_matrix, annot=True, cmap='coolwarm', fmt='.2f', linewidths=0.5)\n",
    "plt.title('Matriz de Correlación')\n",
    "plt.savefig('correlation_matrix.png', bbox_inches='tight')"
   ]
  }
 ],
 "metadata": {
  "colab": {
   "provenance": []
  },
  "jupytext": {
   "cell_metadata_filter": "-all"
  },
  "kernelspec": {
   "display_name": "base",
   "language": "python",
   "name": "python3"
  },
  "language_info": {
   "codemirror_mode": {
    "name": "ipython",
    "version": 3
   },
   "file_extension": ".py",
   "mimetype": "text/x-python",
   "name": "python",
   "nbconvert_exporter": "python",
   "pygments_lexer": "ipython3",
   "version": "3.11.6"
  }
 },
 "nbformat": 4,
 "nbformat_minor": 5
}
