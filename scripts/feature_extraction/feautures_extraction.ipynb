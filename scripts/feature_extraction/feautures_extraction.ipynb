{
 "cells": [
  {
   "cell_type": "code",
   "execution_count": 2,
   "id": "e2f55573",
   "metadata": {},
   "outputs": [],
   "source": [
    "import os\n",
    "import numpy as np\n",
    "import pandas as pd\n",
    "import matplotlib.pylab as plt\n",
    "\n",
    "from tsfresh import extract_features, select_features\n",
    "from tsfresh.utilities.dataframe_functions import roll_time_series\n",
    "from tsfresh.feature_extraction import settings\n",
    "from tsfresh.utilities.dataframe_functions import impute"
   ]
  },
  {
   "cell_type": "code",
   "execution_count": 3,
   "id": "LbSqL4rPx0kO",
   "metadata": {
    "id": "LbSqL4rPx0kO"
   },
   "outputs": [
    {
     "name": "stdout",
     "output_type": "stream",
     "text": [
      "Workspace: /home/jovyan/work/mlds6\n",
      "Data folder: /home/jovyan/work/mlds6/data\n"
     ]
    }
   ],
   "source": [
    "# Navegar hasta la raíz del proyecto \n",
    "WORKSPACE = os.path.abspath(os.path.join(os.getcwd(), '../../'))\n",
    "\n",
    "# Definir la ruta de la carpeta de datos\n",
    "DATA_FOLDER = os.path.join(WORKSPACE, 'data')\n",
    "\n",
    "print(\"Workspace:\", WORKSPACE)\n",
    "print(\"Data folder:\", DATA_FOLDER)"
   ]
  },
  {
   "cell_type": "code",
   "execution_count": 4,
   "id": "448deb46",
   "metadata": {},
   "outputs": [],
   "source": [
    "# Cargar el dataset y eliminar filas con valores vacíos en 'PTPM_CON'\n",
    "df = pd.read_csv(os.path.join(DATA_FOLDER, 'data_filtrado.csv'), usecols=['PTPM_CON', 'Fecha', 'CodigoEstacion'])\n",
    "\n",
    "# Convertir la columna 'Fecha' a formato datetime\n",
    "df['Fecha'] = pd.to_datetime(df['Fecha'])\n",
    "\n",
    "# Ordenar el DataFrame por 'CodigoEstacion' y 'Fecha'\n",
    "df = df.sort_values(by=['CodigoEstacion', 'Fecha'])"
   ]
  },
  {
   "cell_type": "code",
   "execution_count": 6,
   "id": "2de58e9c",
   "metadata": {},
   "outputs": [
    {
     "name": "stderr",
     "output_type": "stream",
     "text": [
      "/usr/local/lib/python3.11/dist-packages/tsfresh/utilities/dataframe_functions.py:520: UserWarning: Your time stamps are not uniformly sampled, which makes rolling nonsensical in some domains.\n",
      "  warnings.warn(\n",
      "Rolling: 100%|██████████| 158/158 [00:02<00:00, 67.08it/s]\n",
      "/usr/local/lib/python3.11/dist-packages/tsfresh/utilities/dataframe_functions.py:520: UserWarning: Your time stamps are not uniformly sampled, which makes rolling nonsensical in some domains.\n",
      "  warnings.warn(\n",
      "Rolling: 100%|██████████| 159/159 [00:02<00:00, 65.33it/s]\n",
      "/usr/local/lib/python3.11/dist-packages/tsfresh/utilities/dataframe_functions.py:520: UserWarning: Your time stamps are not uniformly sampled, which makes rolling nonsensical in some domains.\n",
      "  warnings.warn(\n",
      "Rolling: 100%|██████████| 158/158 [00:02<00:00, 69.50it/s]\n",
      "/usr/local/lib/python3.11/dist-packages/tsfresh/utilities/dataframe_functions.py:520: UserWarning: Your time stamps are not uniformly sampled, which makes rolling nonsensical in some domains.\n",
      "  warnings.warn(\n",
      "Rolling: 100%|██████████| 160/160 [00:02<00:00, 68.66it/s]\n",
      "/usr/local/lib/python3.11/dist-packages/tsfresh/utilities/dataframe_functions.py:520: UserWarning: Your time stamps are not uniformly sampled, which makes rolling nonsensical in some domains.\n",
      "  warnings.warn(\n",
      "Rolling: 100%|██████████| 159/159 [00:02<00:00, 60.12it/s]\n",
      "/usr/local/lib/python3.11/dist-packages/tsfresh/utilities/dataframe_functions.py:520: UserWarning: Your time stamps are not uniformly sampled, which makes rolling nonsensical in some domains.\n",
      "  warnings.warn(\n",
      "Rolling: 100%|██████████| 158/158 [00:02<00:00, 63.54it/s]\n",
      "/usr/local/lib/python3.11/dist-packages/tsfresh/utilities/dataframe_functions.py:520: UserWarning: Your time stamps are not uniformly sampled, which makes rolling nonsensical in some domains.\n",
      "  warnings.warn(\n",
      "Rolling: 100%|██████████| 159/159 [00:02<00:00, 68.91it/s] \n",
      "/usr/local/lib/python3.11/dist-packages/tsfresh/utilities/dataframe_functions.py:520: UserWarning: Your time stamps are not uniformly sampled, which makes rolling nonsensical in some domains.\n",
      "  warnings.warn(\n",
      "Rolling: 100%|██████████| 160/160 [00:02<00:00, 68.37it/s]\n",
      "/usr/local/lib/python3.11/dist-packages/tsfresh/utilities/dataframe_functions.py:520: UserWarning: Your time stamps are not uniformly sampled, which makes rolling nonsensical in some domains.\n",
      "  warnings.warn(\n",
      "Rolling: 100%|██████████| 160/160 [00:02<00:00, 60.23it/s]\n",
      "/usr/local/lib/python3.11/dist-packages/tsfresh/utilities/dataframe_functions.py:520: UserWarning: Your time stamps are not uniformly sampled, which makes rolling nonsensical in some domains.\n",
      "  warnings.warn(\n",
      "Rolling: 100%|██████████| 160/160 [00:02<00:00, 62.28it/s]\n",
      "/usr/local/lib/python3.11/dist-packages/tsfresh/utilities/dataframe_functions.py:520: UserWarning: Your time stamps are not uniformly sampled, which makes rolling nonsensical in some domains.\n",
      "  warnings.warn(\n",
      "Rolling: 100%|██████████| 157/157 [00:02<00:00, 60.25it/s]\n",
      "/usr/local/lib/python3.11/dist-packages/tsfresh/utilities/dataframe_functions.py:520: UserWarning: Your time stamps are not uniformly sampled, which makes rolling nonsensical in some domains.\n",
      "  warnings.warn(\n",
      "Rolling: 100%|██████████| 160/160 [00:02<00:00, 56.68it/s]\n",
      "/usr/local/lib/python3.11/dist-packages/tsfresh/utilities/dataframe_functions.py:520: UserWarning: Your time stamps are not uniformly sampled, which makes rolling nonsensical in some domains.\n",
      "  warnings.warn(\n",
      "Rolling: 100%|██████████| 158/158 [00:02<00:00, 67.03it/s]\n",
      "/usr/local/lib/python3.11/dist-packages/tsfresh/utilities/dataframe_functions.py:520: UserWarning: Your time stamps are not uniformly sampled, which makes rolling nonsensical in some domains.\n",
      "  warnings.warn(\n",
      "Rolling: 100%|██████████| 158/158 [00:02<00:00, 63.50it/s]\n",
      "/usr/local/lib/python3.11/dist-packages/tsfresh/utilities/dataframe_functions.py:520: UserWarning: Your time stamps are not uniformly sampled, which makes rolling nonsensical in some domains.\n",
      "  warnings.warn(\n",
      "Rolling: 100%|██████████| 158/158 [00:03<00:00, 51.25it/s]\n",
      "/usr/local/lib/python3.11/dist-packages/tsfresh/utilities/dataframe_functions.py:520: UserWarning: Your time stamps are not uniformly sampled, which makes rolling nonsensical in some domains.\n",
      "  warnings.warn(\n",
      "Rolling: 100%|██████████| 160/160 [00:02<00:00, 66.82it/s]\n",
      "/usr/local/lib/python3.11/dist-packages/tsfresh/utilities/dataframe_functions.py:520: UserWarning: Your time stamps are not uniformly sampled, which makes rolling nonsensical in some domains.\n",
      "  warnings.warn(\n",
      "Rolling: 100%|██████████| 159/159 [00:03<00:00, 48.97it/s]\n",
      "/usr/local/lib/python3.11/dist-packages/tsfresh/utilities/dataframe_functions.py:520: UserWarning: Your time stamps are not uniformly sampled, which makes rolling nonsensical in some domains.\n",
      "  warnings.warn(\n",
      "Rolling: 100%|██████████| 158/158 [00:02<00:00, 66.06it/s] \n",
      "/usr/local/lib/python3.11/dist-packages/tsfresh/utilities/dataframe_functions.py:520: UserWarning: Your time stamps are not uniformly sampled, which makes rolling nonsensical in some domains.\n",
      "  warnings.warn(\n",
      "Rolling: 100%|██████████| 160/160 [00:03<00:00, 49.16it/s] \n",
      "/usr/local/lib/python3.11/dist-packages/tsfresh/utilities/dataframe_functions.py:520: UserWarning: Your time stamps are not uniformly sampled, which makes rolling nonsensical in some domains.\n",
      "  warnings.warn(\n",
      "Rolling: 100%|██████████| 160/160 [00:02<00:00, 65.37it/s] \n",
      "/usr/local/lib/python3.11/dist-packages/tsfresh/utilities/dataframe_functions.py:520: UserWarning: Your time stamps are not uniformly sampled, which makes rolling nonsensical in some domains.\n",
      "  warnings.warn(\n",
      "Rolling: 100%|██████████| 159/159 [00:02<00:00, 59.31it/s]\n",
      "/usr/local/lib/python3.11/dist-packages/tsfresh/utilities/dataframe_functions.py:520: UserWarning: Your time stamps are not uniformly sampled, which makes rolling nonsensical in some domains.\n",
      "  warnings.warn(\n",
      "Rolling: 100%|██████████| 159/159 [00:02<00:00, 61.68it/s]\n",
      "/usr/local/lib/python3.11/dist-packages/tsfresh/utilities/dataframe_functions.py:520: UserWarning: Your time stamps are not uniformly sampled, which makes rolling nonsensical in some domains.\n",
      "  warnings.warn(\n",
      "Rolling: 100%|██████████| 159/159 [00:02<00:00, 57.71it/s]\n",
      "/usr/local/lib/python3.11/dist-packages/tsfresh/utilities/dataframe_functions.py:520: UserWarning: Your time stamps are not uniformly sampled, which makes rolling nonsensical in some domains.\n",
      "  warnings.warn(\n",
      "Rolling: 100%|██████████| 158/158 [00:02<00:00, 62.35it/s] \n",
      "/usr/local/lib/python3.11/dist-packages/tsfresh/utilities/dataframe_functions.py:520: UserWarning: Your time stamps are not uniformly sampled, which makes rolling nonsensical in some domains.\n",
      "  warnings.warn(\n",
      "Rolling: 100%|██████████| 159/159 [00:01<00:00, 101.37it/s]\n",
      "/usr/local/lib/python3.11/dist-packages/tsfresh/utilities/dataframe_functions.py:520: UserWarning: Your time stamps are not uniformly sampled, which makes rolling nonsensical in some domains.\n",
      "  warnings.warn(\n",
      "Rolling: 100%|██████████| 159/159 [00:06<00:00, 26.46it/s]\n",
      "/usr/local/lib/python3.11/dist-packages/tsfresh/utilities/dataframe_functions.py:520: UserWarning: Your time stamps are not uniformly sampled, which makes rolling nonsensical in some domains.\n",
      "  warnings.warn(\n",
      "Rolling: 100%|██████████| 160/160 [00:03<00:00, 50.61it/s]\n",
      "/usr/local/lib/python3.11/dist-packages/tsfresh/utilities/dataframe_functions.py:520: UserWarning: Your time stamps are not uniformly sampled, which makes rolling nonsensical in some domains.\n",
      "  warnings.warn(\n",
      "Rolling: 100%|██████████| 159/159 [00:01<00:00, 107.85it/s]\n",
      "/usr/local/lib/python3.11/dist-packages/tsfresh/utilities/dataframe_functions.py:520: UserWarning: Your time stamps are not uniformly sampled, which makes rolling nonsensical in some domains.\n",
      "  warnings.warn(\n",
      "Rolling: 100%|██████████| 160/160 [00:01<00:00, 97.27it/s] \n",
      "/usr/local/lib/python3.11/dist-packages/tsfresh/utilities/dataframe_functions.py:520: UserWarning: Your time stamps are not uniformly sampled, which makes rolling nonsensical in some domains.\n",
      "  warnings.warn(\n",
      "Rolling: 100%|██████████| 158/158 [00:02<00:00, 58.15it/s] \n",
      "/usr/local/lib/python3.11/dist-packages/tsfresh/utilities/dataframe_functions.py:520: UserWarning: Your time stamps are not uniformly sampled, which makes rolling nonsensical in some domains.\n",
      "  warnings.warn(\n",
      "Rolling: 100%|██████████| 160/160 [00:02<00:00, 55.95it/s] \n",
      "/usr/local/lib/python3.11/dist-packages/tsfresh/utilities/dataframe_functions.py:520: UserWarning: Your time stamps are not uniformly sampled, which makes rolling nonsensical in some domains.\n",
      "  warnings.warn(\n",
      "Rolling: 100%|██████████| 159/159 [00:03<00:00, 52.00it/s]\n",
      "/usr/local/lib/python3.11/dist-packages/tsfresh/utilities/dataframe_functions.py:520: UserWarning: Your time stamps are not uniformly sampled, which makes rolling nonsensical in some domains.\n",
      "  warnings.warn(\n",
      "Rolling: 100%|██████████| 159/159 [00:01<00:00, 85.75it/s] \n",
      "/usr/local/lib/python3.11/dist-packages/tsfresh/utilities/dataframe_functions.py:520: UserWarning: Your time stamps are not uniformly sampled, which makes rolling nonsensical in some domains.\n",
      "  warnings.warn(\n",
      "Rolling: 100%|██████████| 159/159 [00:02<00:00, 56.40it/s] \n",
      "/usr/local/lib/python3.11/dist-packages/tsfresh/utilities/dataframe_functions.py:520: UserWarning: Your time stamps are not uniformly sampled, which makes rolling nonsensical in some domains.\n",
      "  warnings.warn(\n",
      "Rolling: 100%|██████████| 157/157 [00:02<00:00, 52.59it/s]\n",
      "/usr/local/lib/python3.11/dist-packages/tsfresh/utilities/dataframe_functions.py:520: UserWarning: Your time stamps are not uniformly sampled, which makes rolling nonsensical in some domains.\n",
      "  warnings.warn(\n",
      "Rolling: 100%|██████████| 160/160 [00:03<00:00, 50.21it/s]\n",
      "/usr/local/lib/python3.11/dist-packages/tsfresh/utilities/dataframe_functions.py:520: UserWarning: Your time stamps are not uniformly sampled, which makes rolling nonsensical in some domains.\n",
      "  warnings.warn(\n",
      "Rolling: 100%|██████████| 159/159 [00:03<00:00, 51.09it/s] \n",
      "/usr/local/lib/python3.11/dist-packages/tsfresh/utilities/dataframe_functions.py:520: UserWarning: Your time stamps are not uniformly sampled, which makes rolling nonsensical in some domains.\n",
      "  warnings.warn(\n",
      "Rolling: 100%|██████████| 159/159 [00:01<00:00, 90.59it/s] \n"
     ]
    },
    {
     "name": "stdout",
     "output_type": "stream",
     "text": [
      "       Fecha  CodigoEstacion  PTPM_CON                               id\n",
      "0 2000-01-31        15070090       0.0  (15070090, 2000-02-06 00:00:00)\n",
      "1 2000-02-01        15070090       0.0  (15070090, 2000-02-06 00:00:00)\n",
      "2 2000-02-02        15070090       0.0  (15070090, 2000-02-06 00:00:00)\n",
      "3 2000-02-03        15070090       0.0  (15070090, 2000-02-06 00:00:00)\n",
      "4 2000-02-04        15070090       0.0  (15070090, 2000-02-06 00:00:00)\n"
     ]
    }
   ],
   "source": [
    "# Aplicar la función de rolling por cada estación\n",
    "df_rolled = []\n",
    "for station, group in df.groupby('CodigoEstacion'):\n",
    "    rolled_group = roll_time_series(\n",
    "        group,\n",
    "        column_id=\"CodigoEstacion\",\n",
    "        column_sort=\"Fecha\",\n",
    "        max_timeshift=6,\n",
    "        min_timeshift=6,\n",
    "    )\n",
    "    df_rolled.append(rolled_group)\n",
    "\n",
    "# Combinar los resultados de todos los grupos\n",
    "df_rolled = pd.concat(df_rolled).reset_index(drop=True)\n",
    "\n",
    "# Verificar el DataFrame resultante\n",
    "print(df_rolled.head())"
   ]
  },
  {
   "cell_type": "code",
   "execution_count": 7,
   "id": "2a5907b1",
   "metadata": {},
   "outputs": [
    {
     "name": "stderr",
     "output_type": "stream",
     "text": [
      "Feature Extraction: 100%|██████████| 160/160 [11:15<00:00,  4.22s/it] \n"
     ]
    }
   ],
   "source": [
    "X = extract_features(df_rolled.drop(\"CodigoEstacion\", axis=1), \n",
    "                     column_id=\"id\", column_sort=\"Fecha\", column_value=\"PTPM_CON\", \n",
    "                     impute_function=impute, show_warnings=False, default_fc_parameters=settings.ComprehensiveFCParameters())"
   ]
  },
  {
   "cell_type": "code",
   "execution_count": 19,
   "id": "31a56357",
   "metadata": {},
   "outputs": [],
   "source": [
    "# Restablecer el índice\n",
    "X = X.reset_index()\n",
    "\n",
    "# Renombrar las columnas del índice\n",
    "X.columns = ['CodigoEstacion', 'Fecha'] + list(X.columns[2:])\n",
    "\n",
    "# Convertir la columna 'Fecha' al tipo de datos datetime \n",
    "X['Fecha'] = pd.to_datetime(X['Fecha'])"
   ]
  },
  {
   "cell_type": "code",
   "execution_count": 14,
   "id": "e6ed195c",
   "metadata": {},
   "outputs": [],
   "source": [
    "df['PTPM_CON_shifted'] = df.groupby('CodigoEstacion')['PTPM_CON'].shift(-1)\n",
    "df.dropna(subset=['PTPM_CON_shifted'], inplace=True)"
   ]
  },
  {
   "cell_type": "code",
   "execution_count": 82,
   "id": "358c7e05",
   "metadata": {},
   "outputs": [],
   "source": [
    "# Realizamos la combinación entre X_df y y_df usando las columnas 'Fecha' y 'CodigoEstacion'\n",
    "model_df = pd.merge(X, df[['Fecha', 'CodigoEstacion', 'PTPM_CON_shifted']], \n",
    "                on=['Fecha', 'CodigoEstacion'], \n",
    "                how='left')\n",
    "model_df.dropna(subset=['PTPM_CON_shifted'], inplace=True)"
   ]
  },
  {
   "cell_type": "code",
   "execution_count": null,
   "id": "94eb0689",
   "metadata": {},
   "outputs": [],
   "source": [
    "# Diccionario para almacenar resultados de correlación por estación\n",
    "resultados_correlacion = {}\n",
    "\n",
    "# Iterar por cada estación única\n",
    "for estacion in model_df['CodigoEstacion'].unique():\n",
    "    # Filtrar datos por estación\n",
    "    df_estacion = model_df[model_df['CodigoEstacion'] == estacion]\n",
    "    \n",
    "    # Seleccionar columnas para correlación\n",
    "    columnas_correlacion = [col for col in df_estacion.columns \n",
    "                            if col not in ['CodigoEstacion', 'Fecha', 'PTPM_CON_shifted']]\n",
    "    \n",
    "    # Calcular correlaciones\n",
    "    try:\n",
    "        correlaciones = df_estacion[columnas_correlacion + ['PTPM_CON_shifted']].corr()['PTPM_CON_shifted']\n",
    "        \n",
    "        # Eliminar la correlación consigo mismo\n",
    "        correlaciones = correlaciones.drop('PTPM_CON_shifted')\n",
    "\n",
    "        # Ordenar correlaciones por valor absoluto\n",
    "        correlaciones = correlaciones.abs().sort_values(ascending=False)\n",
    "\n",
    "        # Almacenar resultados\n",
    "        resultados_correlacion[estacion] = correlaciones\n",
    "    \n",
    "    except Exception as e:\n",
    "        print(f\"Error procesando estación {estacion}: {e}\")"
   ]
  },
  {
   "cell_type": "code",
   "execution_count": 79,
   "id": "9e7a66b8",
   "metadata": {},
   "outputs": [
    {
     "name": "stdout",
     "output_type": "stream",
     "text": [
      "PTPM_CON__cwt_coefficients__coeff_6__w_5__widths_(2, 5, 10, 20)            0.407875\n",
      "PTPM_CON__mean                                                             0.391354\n",
      "PTPM_CON__fft_coefficient__attr_\"abs\"__coeff_0                             0.391354\n",
      "PTPM_CON__sum_values                                                       0.391354\n",
      "PTPM_CON__quantile__q_0.7                                                  0.372223\n",
      "PTPM_CON__root_mean_square                                                 0.368809\n",
      "PTPM_CON__median                                                           0.356659\n",
      "PTPM_CON__abs_energy                                                       0.319528\n",
      "PTPM_CON__absolute_maximum                                                 0.319499\n",
      "PTPM_CON__maximum                                                          0.319499\n",
      "PTPM_CON__agg_linear_trend__attr_\"intercept\"__chunk_len_5__f_agg_\"mean\"    0.308709\n",
      "PTPM_CON__range_count__max_1__min_-1                                       0.302655\n",
      "PTPM_CON__change_quantiles__f_agg_\"mean\"__isabs_True__qh_0.8__ql_0.0       0.295921\n",
      "PTPM_CON__count_below__t_0                                                 0.291945\n",
      "PTPM_CON__value_count__value_0                                             0.291945\n",
      "PTPM_CON__ratio_value_number_to_time_series_length                         0.288660\n",
      "PTPM_CON__percentage_of_reoccurring_datapoints_to_all_datapoints           0.284726\n",
      "PTPM_CON__standard_deviation                                               0.283210\n",
      "PTPM_CON__lempel_ziv_complexity__bins_100                                  0.282242\n",
      "PTPM_CON__mean_abs_change                                                  0.276212\n",
      "PTPM_CON__absolute_sum_of_changes                                          0.276212\n",
      "PTPM_CON__last_location_of_minimum                                         0.271513\n",
      "PTPM_CON__linear_trend__attr_\"stderr\"                                      0.264897\n",
      "PTPM_CON__binned_entropy__max_bins_10                                      0.260523\n",
      "PTPM_CON__cid_ce__normalize_False                                          0.260103\n",
      "PTPM_CON__minimum                                                          0.255424\n",
      "PTPM_CON__percentage_of_reoccurring_values_to_all_values                   0.252789\n",
      "PTPM_CON__c3__lag_1                                                        0.237166\n",
      "PTPM_CON__count_above_mean                                                 0.222969\n",
      "PTPM_CON__has_duplicate_min                                                0.221258\n",
      "Name: Promedio, dtype: float64\n"
     ]
    }
   ],
   "source": [
    "# Crear un DataFrame resumen de correlaciones\n",
    "df_correlacion = pd.DataFrame(resultados_correlacion)\n",
    "df_correlacion['Promedio'] = df_correlacion.mean(axis=1)\n",
    "df_correlacion = df_correlacion.sort_values(by='Promedio', ascending=False)\n",
    "\n",
    "# Extraemos las tres primeras palabras de cada característica\n",
    "df_correlacion['Clase'] = df_correlacion.index.to_series().apply(lambda x: '__'.join(x.split('__')[:2]))\n",
    "\n",
    "# Mantenemos las 30 características con mayor promedio de correlación que no sean del mismo tipo\n",
    "df_top_30 = df_correlacion.drop_duplicates(subset='Clase').head(30)\n",
    "\n",
    "# Mostramos el DataFrame resultante\n",
    "print(df_top_30['Promedio'])"
   ]
  },
  {
   "cell_type": "code",
   "execution_count": 83,
   "id": "04660a23",
   "metadata": {},
   "outputs": [],
   "source": [
    "# Filtramos los índices donde 'Promedio' es mayor a 0.3 excluyendo 'PTPM_CON__absolute_maximum'\n",
    "columnas = df_top_30[(df_top_30['Promedio'] > 0.3) & (df_top_30.index != 'PTPM_CON__absolute_maximum')].index.tolist()\n",
    "\n",
    "# Extraemos únicamente esas columnas a model_df\n",
    "model_df = model_df[['CodigoEstacion', 'Fecha', 'PTPM_CON_shifted'] + columnas]\n",
    "\n",
    "# Guardamos el DataFrame resultante\n",
    "model_df.to_csv(DATA_FOLDER + '/data_modelo.csv', index=False)"
   ]
  }
 ],
 "metadata": {
  "colab": {
   "provenance": []
  },
  "jupytext": {
   "cell_metadata_filter": "-all"
  },
  "kernelspec": {
   "display_name": "Python 3",
   "language": "python",
   "name": "python3"
  },
  "language_info": {
   "codemirror_mode": {
    "name": "ipython",
    "version": 3
   },
   "file_extension": ".py",
   "mimetype": "text/x-python",
   "name": "python",
   "nbconvert_exporter": "python",
   "pygments_lexer": "ipython3",
   "version": "3.11.0rc1"
  }
 },
 "nbformat": 4,
 "nbformat_minor": 5
}
